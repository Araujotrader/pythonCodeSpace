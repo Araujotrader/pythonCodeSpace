{
 "cells": [
  {
   "cell_type": "markdown",
   "id": "f042caa0",
   "metadata": {},
   "source": [
    "# Aula 03\n",
    "\n",
    "- Introdução ao Git Hub e CodeSpace\n",
    "- Tuplas, Listas, Dicionários"
   ]
  },
  {
   "cell_type": "code",
   "execution_count": 11,
   "id": "4195a828",
   "metadata": {},
   "outputs": [
    {
     "name": "stdout",
     "output_type": "stream",
     "text": [
      "('segunda', 'terça', 'quarta')\n",
      "\n",
      "segunda-feira\n",
      "\n",
      "terça-feira\n",
      "\n",
      "quarta-feira\n"
     ]
    }
   ],
   "source": [
    "# Tuplas - são listas imutáveis\n",
    "\n",
    "diaSemana = ('segunda', 'terça', 'quarta')\n",
    "\n",
    "print(diaSemana)\n",
    "\n",
    "# Introdução ao For\n",
    "\n",
    "for dias in diaSemana:\n",
    "    print(f'\\n{dias}-feira')\n"
   ]
  },
  {
   "cell_type": "code",
   "execution_count": null,
   "id": "8e0b93a3",
   "metadata": {},
   "outputs": [],
   "source": []
  }
 ],
 "metadata": {
  "kernelspec": {
   "display_name": "Python 3 (ipykernel)",
   "language": "python",
   "name": "python3"
  },
  "language_info": {
   "codemirror_mode": {
    "name": "ipython",
    "version": 3
   },
   "file_extension": ".py",
   "mimetype": "text/x-python",
   "name": "python",
   "nbconvert_exporter": "python",
   "pygments_lexer": "ipython3",
   "version": "3.12.1"
  }
 },
 "nbformat": 4,
 "nbformat_minor": 5
}
